{
 "cells": [
  {
   "cell_type": "code",
   "execution_count": 1,
   "metadata": {},
   "outputs": [
    {
     "data": {
      "text/plain": [
       "-1528.2141376644754"
      ]
     },
     "execution_count": 1,
     "metadata": {},
     "output_type": "execute_result"
    }
   ],
   "source": [
    "from sklearn import datasets\n",
    "from abupy import train_test_split\n",
    "from sklearn.preprocessing import StandardScaler\n",
    "import numpy as np\n",
    "import pandas as pd\n",
    "from abupy import AbuML\n",
    "\n",
    "# 数据集\n",
    "scikit_boston = datasets.load_boston()\n",
    "x = scikit_boston.data\n",
    "y = scikit_boston.target\n",
    "df = pd.DataFrame(data=np.c_[x, y], columns=np.append(scikit_boston.feature_names, ['MEDV']))\n",
    "\n",
    "x_train, x_test, y_train, y_test = train_test_split(x, y, test_size = 0.2)\n",
    "\n",
    "# 归一化数据\n",
    "scaler = StandardScaler()\n",
    "x_train = scaler.fit_transform(x_train)\n",
    "x_test = scaler.fit_transform(x_test)\n",
    "\n",
    "# 模型训练\n",
    "df = pd.DataFrame(data=np.c_[x_train, y_train], columns=np.append(scikit_boston.feature_names, ['MEDV']))\n",
    "boston = AbuML(x_train, y_train, df)\n",
    "boston.estimator.polynomial_regression(degree=1)\n",
    "reg = boston.fit()\n",
    "\n",
    "# 测试集上预测\n",
    "y_pred = reg.predict(x_test)\n",
    "\n",
    "from sklearn.metrics import r2_score\n",
    "r2_score(y_test, y_pred)\n",
    "\n",
    "\n",
    "# 平方展开\n",
    "boston.estimator.polynomial_regression(degree=2)\n",
    "\n",
    "reg = boston.fit()\n",
    "y_pred = reg.predict(x_test)\n",
    "r2_score(y_test, y_pred)\n",
    "\n",
    "# 立方展开，r2很差时会变成负数\n",
    "boston.estimator.polynomial_regression(degree=3)\n",
    "\n",
    "reg = boston.fit()\n",
    "y_pred = reg.predict(x_test)\n",
    "r2_score(y_test, y_pred)"
   ]
  },
  {
   "cell_type": "code",
   "execution_count": null,
   "metadata": {
    "collapsed": true
   },
   "outputs": [],
   "source": []
  }
 ],
 "metadata": {
  "kernelspec": {
   "display_name": "Python 2",
   "language": "python",
   "name": "python2"
  },
  "language_info": {
   "codemirror_mode": {
    "name": "ipython",
    "version": 2
   },
   "file_extension": ".py",
   "mimetype": "text/x-python",
   "name": "python",
   "nbconvert_exporter": "python",
   "pygments_lexer": "ipython2",
   "version": "2.7.13"
  }
 },
 "nbformat": 4,
 "nbformat_minor": 2
}
