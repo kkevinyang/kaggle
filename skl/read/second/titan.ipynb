{
 "cells": [
  {
   "cell_type": "code",
   "execution_count": 35,
   "metadata": {
    "collapsed": true
   },
   "outputs": [],
   "source": [
    "%matplotlib inline\n",
    "import numpy as np\n",
    "\n",
    "import warnings\n",
    "warnings.filterwarnings('ignore')\n",
    "warnings.simplefilter('ignore')\n",
    "import seaborn as sns\n",
    "\n",
    "sns.set_context(rc={'figure.figsize': (14, 7) } )\n",
    "figzize_me = figsize =(14, 7)"
   ]
  },
  {
   "cell_type": "code",
   "execution_count": 1,
   "metadata": {},
   "outputs": [],
   "source": [
    "import pandas as pd # pandas是python的数据格式处理类库\n",
    "\n",
    "# 加载泰坦尼克号生存预测数据集\n",
    "data_train = pd.read_csv(\"./data/titanic/train.csv\")"
   ]
  },
  {
   "cell_type": "code",
   "execution_count": 6,
   "metadata": {},
   "outputs": [
    {
     "name": "stderr",
     "output_type": "stream",
     "text": [
      "LogisticRegression score mean: 0.79919731018\n"
     ]
    },
    {
     "data": {
      "text/plain": [
       "array([ 0.7778,  0.7889,  0.7753,  0.8202,  0.7865,  0.7753,  0.7865,\n",
       "        0.7978,  0.8315,  0.8523])"
      ]
     },
     "execution_count": 6,
     "metadata": {},
     "output_type": "execute_result"
    }
   ],
   "source": [
    "def set_missing_ages(p_df):\n",
    "    \"\"\"处理数据缺失\"\"\"\n",
    "    p_df.loc[(p_df.Age.isnull()), 'Age'] = p_df.Age.dropna().mean()\n",
    "    return p_df\n",
    "df = set_missing_ages(data_train)\n",
    "\n",
    "# 归一化\n",
    "import sklearn.preprocessing as preprocessing\n",
    "\n",
    "scaler = preprocessing.StandardScaler()\n",
    "df['Age_scaled'] = scaler.fit_transform(data_train['Age'].values.reshape(-1, 1))\n",
    "df['Fare_scaled'] = scaler.fit_transform(data_train['Fare'].values.reshape(-1, 1))\n",
    "\n",
    "\n",
    "# 处理类别意义的特征\n",
    "def set_cabin_type(p_df):\n",
    "    p_df.loc[(p_df.Cabin.notnull()), 'Cabin'] = \"Yes\"\n",
    "    p_df.loc[(p_df.Cabin.isnull()), 'Cabin'] = \"No\"\n",
    "    return p_df\n",
    "df = set_cabin_type(df)\n",
    "\n",
    "dummies_pclass = pd.get_dummies(data_train['Pclass'], prefix='Pclass')\n",
    "dummies_embarked = pd.get_dummies(data_train['Embarked'], prefix='Embarked')\n",
    "dummies_sex = pd.get_dummies(data_train['Sex'], prefix='Sex')\n",
    "df = pd.concat([df, dummies_embarked, dummies_sex, dummies_pclass], axis=1)\n",
    "\n",
    "# noinspection PyUnresolvedReferences\n",
    "df.drop(['Pclass', 'Name', 'Sex', 'Ticket', 'Cabin', 'Embarked'], axis=1, inplace=True)\n",
    "# 选择哪些特征作为训练特征\n",
    "train_df = df.filter(regex='Survived|Age_.*|SibSp|Parch|Fare_.*|Cabin_.*|Embarked_.*|Sex_.*|Pclass_.*')\n",
    "\n",
    "from abupy import AbuML\n",
    "\n",
    "train_np = train_df.as_matrix()\n",
    "y = train_np[:, 0]\n",
    "x = train_np[:, 1:]\n",
    "titanic = AbuML(x, y, train_df)\n",
    "\n",
    "titanic.estimator.logistic_classifier()\n",
    "titanic.cross_val_accuracy_score()"
   ]
  },
  {
   "cell_type": "code",
   "execution_count": 11,
   "metadata": {},
   "outputs": [
    {
     "name": "stderr",
     "output_type": "stream",
     "text": [
      "LogisticRegression score mean: 0.805888378164\n"
     ]
    },
    {
     "data": {
      "text/plain": [
       "array([ 0.7889,  0.8   ,  0.7865,  0.8427,  0.809 ,  0.7753,  0.7978,\n",
       "        0.7865,  0.8427,  0.8295])"
      ]
     },
     "execution_count": 11,
     "metadata": {},
     "output_type": "execute_result"
    }
   ],
   "source": [
    "# 构造非线性特征\n",
    "\n",
    "# 划分区间\n",
    "df['Child'] = (data_train['Age'] <= 10).astype(int)\n",
    "# 平方\n",
    "df['Age*Age'] = data_train['Age'] * data_train['Age']\n",
    "# 归一化\n",
    "df['Age*Age_scaled'] = scaler.fit_transform(df['Age*Age'])\n",
    "\n",
    "# filter加入新增的特征\n",
    "train_df = df.filter(regex='Survived|Age_.*|SibSp|Parch|Fare_.*|Cabin_.*|Embarked_.*|Sex_.*|Pclass_.*|Child|Age\\*Class_.*')\n",
    "df['Age*Class'] = data_train['Age'] * data_train['Pclass']\n",
    "# 归一化\n",
    "df['Age*Class_scaled'] = scaler.fit_transform(df['Age*Class'].values.reshape(-1, 1))\n",
    "\n",
    "train_np = train_df.as_matrix()\n",
    "y = train_np[:, 0]\n",
    "x = train_np[:, 1:]\n",
    "titanic = AbuML(x, y, train_df)\n",
    "\n",
    "titanic.estimator.logistic_classifier()\n",
    "titanic.cross_val_accuracy_score()\n",
    "\n",
    "# 评估特征作用\n",
    "# titanic.importances_coef_pd()\n",
    "# titanic.feature_selection()"
   ]
  },
  {
   "cell_type": "code",
   "execution_count": 13,
   "metadata": {},
   "outputs": [
    {
     "data": {
      "text/plain": [
       "LogisticRegression(C=1.0, class_weight=None, dual=False, fit_intercept=True,\n",
       "          intercept_scaling=1, max_iter=100, multi_class='ovr', n_jobs=1,\n",
       "          penalty='l1', random_state=None, solver='liblinear', tol=1e-06,\n",
       "          verbose=0, warm_start=False)"
      ]
     },
     "execution_count": 13,
     "metadata": {},
     "output_type": "execute_result"
    }
   ],
   "source": [
    "# 调试模型\n",
    "\n",
    "# L2正则化\n",
    "# X是训练样本矩阵，W是权重矩阵，b是偏置向量，y是真实标签矩阵\n",
    "def loss_func(X, W, b, y):\n",
    "    # lmd 是一个可调节的模型参数\n",
    "    C = 2\n",
    "    s = score(X, W, b)\n",
    "    p = softmax(s)\n",
    "    return -np.mean(cross_entropy(y, p)) + np.mean(np.dot(w.T, w) / C)\n",
    "\n",
    "from abupy import AbuML\n",
    "\n",
    "# create_test_more_fiter用于快速测试API，封装了titanic数据集合相关的特征处理\n",
    "titanic = AbuML.create_test_more_fiter()\n",
    "titanic.estimator.logistic_classifier()\n",
    "\n",
    "# 学习曲线\n",
    "# titanic.plot_learning_curve()\n"
   ]
  },
  {
   "cell_type": "code",
   "execution_count": 17,
   "metadata": {},
   "outputs": [],
   "source": [
    "# Titanic处理好的数据集\n",
    "# titanic = AbuML.create_test_more_fiter()\n",
    "\n",
    "# 使用逻辑分类\n",
    "# titanic.estimator.logistic_classifier()\n",
    "\n",
    "# 定义参数搜索范围\n",
    "# _, best_params = ABuMLGrid.grid_search_init_kwargs(titanic.estimator.clf, titanic.x, titanic.y,\n",
    "#                                     param_name='C', param_range=[0.001, 0.01, 0.1, 1, 10, 100, 1000], show=True)\n",
    "\n",
    "\n",
    "# 混淆矩阵\n",
    "# titanic.plot_confusion_matrices()\n",
    "\n",
    "\n",
    "from abupy import ABuMLExecute\n",
    "from sklearn import metrics\n",
    "\n",
    "titanic_y_pred = ABuMLExecute.run_cv_estimator(titanic.get_fiter(), titanic.x, titanic.y, n_folds=10)\n",
    "confusion_matrix = metrics.confusion_matrix(titanic.y, titanic_y_pred)\n",
    "TP = confusion_matrix[1, 1]\n",
    "TN = confusion_matrix[0, 0]\n",
    "FP = confusion_matrix[0, 1]\n",
    "FN = confusion_matrix[1, 0]\n",
    "\n",
    "# 准确率\n",
    "assert metrics.accuracy_score(titanic.y, titanic_y_pred) == (TP + TN) / float(TP + TN + FP + FN)\n",
    "\n",
    "# “生存”类别的精确率\n",
    "tit_precision = TP / float(TP + FP)\n",
    "# “生存”类别的召回率\n",
    "tit_recall = TP / float(TP + FN)\n",
    "\n",
    "assert metrics.precision_score(titanic.y, titanic_y_pred) == tit_precision\n",
    "assert metrics.recall_score(titanic.y, titanic_y_pred) == tit_recall\n",
    "# F1分数\n",
    "assert metrics.f1_score(titanic.y, titanic_y_pred) == 2 * tit_precision * tit_recall / (tit_precision + tit_recall)\n",
    "\n",
    "\n",
    "# K-folder下的ROC曲线和AUC面积（area）\n",
    "# titanic.plot_roc_estimator()"
   ]
  },
  {
   "cell_type": "code",
   "execution_count": 18,
   "metadata": {
    "collapsed": true
   },
   "outputs": [],
   "source": [
    "# 评估指标\n",
    "\n",
    "def mean_absolute_error(y, y_pred):\n",
    "     return np.average(np.abs(y - y_true), axis=0)\n",
    "\n",
    "def median_absolute_error(y, y_pred):\n",
    "     return np.median(np.abs(y - y_pred))\n",
    "\n",
    "def mean_squared_error(y, y_pred):\n",
    "     return np.average((y_true - y_pred) ** 2, axis=0)\n",
    "\n",
    "def r2_score(y, y_pred):\n",
    "    sse = ((y - y_pred) ** 2).sum(axis=0, dtype=np.float64)\n",
    "    sst = ((y - np.average(y, axis=0)) ** 2).sum(axis=0, dtype=np.float64)\n",
    "    # 特殊值处理\n",
    "    if sse == 0.0:\n",
    "        if sst == 0.0:\n",
    "            return 1.0\n",
    "        else:\n",
    "            return 0.0\n",
    "    return 1 - sse / sst"
   ]
  },
  {
   "cell_type": "code",
   "execution_count": 23,
   "metadata": {},
   "outputs": [
    {
     "data": {
      "text/plain": [
       "<matplotlib.axes._subplots.AxesSubplot at 0x11f178e90>"
      ]
     },
     "execution_count": 23,
     "metadata": {},
     "output_type": "execute_result"
    }
   ],
   "source": [
    "import seaborn as sns # seaborn包含了一系列的统计图形函数\n",
    "\n",
    "sns.distplot(data_train[\"Age\"].dropna(), kde=True, hist=True)\n"
   ]
  },
  {
   "cell_type": "code",
   "execution_count": 24,
   "metadata": {},
   "outputs": [
    {
     "data": {
      "text/plain": [
       "<matplotlib.axes._subplots.AxesSubplot at 0x11f178e90>"
      ]
     },
     "execution_count": 24,
     "metadata": {},
     "output_type": "execute_result"
    }
   ],
   "source": [
    "def set_missing_ages(p_df):\n",
    "    \"\"\"均值特征填充\"\"\"\n",
    "    p_df.loc[(p_df.Age.isnull()), 'Age'] = data_train.Age.dropna().mean()\n",
    "    return p_df\n",
    "\n",
    "data_train = set_missing_ages(data_train)\n",
    "data_train_fix1 = set_missing_ages(data_train)\n",
    "sns.distplot(data_train_fix1[\"Age\"], kde=True, hist=True)"
   ]
  },
  {
   "cell_type": "code",
   "execution_count": 25,
   "metadata": {},
   "outputs": [
    {
     "data": {
      "text/plain": [
       "<matplotlib.axes._subplots.AxesSubplot at 0x11f178e90>"
      ]
     },
     "execution_count": 25,
     "metadata": {},
     "output_type": "execute_result"
    }
   ],
   "source": [
    "from abupy import AbuML\n",
    "import sklearn.preprocessing as preprocessing\n",
    "\n",
    "def set_missing_ages2(p_df):\n",
    "    \"\"\"回归模型预测特征填充\"\"\"\n",
    "    age_df = p_df[['Age', 'Fare', 'Parch', 'SibSp', 'Pclass']]\n",
    "    # 归一化\n",
    "    scaler = preprocessing.StandardScaler()\n",
    "    age_df['Fare_scaled'] = scaler.fit_transform(age_df.Fare.values.reshape(-1, 1))\n",
    "    del age_df['Fare']\n",
    "    # 分割已经数据和待预测数据集\n",
    "    known_age = age_df[age_df.Age.notnull()].as_matrix()\n",
    "    unknown_age = age_df[age_df.Age.isnull()].as_matrix()\n",
    "    y_inner = known_age[:, 0]\n",
    "    x_inner = known_age[:, 1:]\n",
    "    # 训练\n",
    "    rfr_inner = AbuML(x_inner, y_inner, age_df.Age.notnull())\n",
    "    rfr_inner.estimator.polynomial_regression(degree=1)\n",
    "    reg_inner = rfr_inner.fit()\n",
    "    # 预测\n",
    "    predicted_ages = reg_inner.predict(unknown_age[:, 1::])\n",
    "    p_df.loc[(p_df.Age.isnull()), 'Age'] = predicted_ages\n",
    "    return p_df\n",
    "\n",
    "data_train = pd.read_csv('./data/titanic/train.csv')\n",
    "data_train_fix2 = set_missing_ages2(data_train)\n",
    "sns.distplot(data_train_fix2[\"Age\"], kde=True, hist=True)"
   ]
  },
  {
   "cell_type": "code",
   "execution_count": 26,
   "metadata": {},
   "outputs": [
    {
     "name": "stderr",
     "output_type": "stream",
     "text": [
      "LogisticRegression score mean: 0.798073714675\n",
      "LogisticRegression score mean: 0.809183974577\n"
     ]
    }
   ],
   "source": [
    "# 处理cabin特征\n",
    "def set_cabin_type(p_df):\n",
    "    p_df.loc[(p_df.Cabin.notnull()), 'Cabin'] = \"Yes\"\n",
    "    p_df.loc[(p_df.Cabin.isnull()), 'Cabin'] = \"No\"\n",
    "    return p_df\n",
    "\n",
    "def train_val(data):\n",
    "    \"\"\"封装所有处理训练步骤\"\"\"\n",
    "    # 处理离散特征\n",
    "    dummies__cabin = pd.get_dummies(data['Cabin'], prefix='Cabin')\n",
    "    dummies__embarked = pd.get_dummies(data['Embarked'], prefix='Embarked')\n",
    "    dummies__sex = pd.get_dummies(data['Sex'], prefix='Sex')\n",
    "    dummies__pclass = pd.get_dummies(data['Pclass'], prefix='Pclass')\n",
    "    df = pd.concat([data, dummies__cabin, dummies__embarked, dummies__sex, dummies__pclass], axis=1)\n",
    "    df.drop(['Pclass', 'Name', 'Sex', 'Ticket', 'Cabin', 'Embarked'], axis=1, inplace=True)\n",
    "    # 归一化数据\n",
    "    scaler = preprocessing.StandardScaler()\n",
    "    df['Age_scaled'] = scaler.fit_transform(df['Age'].values.reshape(-1, 1))\n",
    "    df['Fare_scaled'] = scaler.fit_transform(df['Fare'].values.reshape(-1, 1))\n",
    "    df['SibSp_scaled'] = scaler.fit_transform(df['SibSp'].astype(float).values.reshape(-1, 1))\n",
    "    df['Parch_scaled'] = scaler.fit_transform(df['Parch'].astype(float).values.reshape(-1, 1))\n",
    "    # 选择特征\n",
    "    train_df = df.filter(regex='Survived|Age_.*|SibSp_.*|Parch_.*|Fare_.*|Cabin_.*|Embarked_.*|Sex_.*|Pclass_.*')\n",
    "    train_np = train_df.as_matrix()\n",
    "    y = train_np[:, 0]\n",
    "    x = train_np[:, 1:]\n",
    "    titanic = AbuML(x, y, train_df)\n",
    "    titanic.estimator.logistic_classifier()\n",
    "    titanic.cross_val_accuracy_score()\n",
    "    \n",
    "    \n",
    "data_train_fix1 = set_cabin_type(data_train_fix1)\n",
    "train_val(data_train_fix1)\n",
    "\n",
    "data_train_fix2 = set_cabin_type(data_train_fix2)\n",
    "train_val(data_train_fix2)"
   ]
  },
  {
   "cell_type": "code",
   "execution_count": 27,
   "metadata": {
    "collapsed": true
   },
   "outputs": [],
   "source": [
    "# 对比线性模型和决策树模型\n",
    "\n",
    "from sklearn.ensemble import RandomForestRegressor\n",
    "\n",
    "def set_missing_ages(p_df):\n",
    "    age_df = p_df[['Age', 'Fare', 'Parch', 'SibSp', 'Pclass']]\n",
    "    # 归一化\n",
    "    scaler = preprocessing.StandardScaler()\n",
    "    age_df['Fare_scaled'] = scaler.fit_transform(age_df['Fare'].values.reshape(-1, 1))\n",
    "    del age_df['Fare']\n",
    "    # 分割已经数据和待预测数据集\n",
    "    known_age = age_df[age_df.Age.notnull()].as_matrix()\n",
    "    unknown_age = age_df[age_df.Age.isnull()].as_matrix()\n",
    "    y_inner = known_age[:, 0]\n",
    "    x_inner = known_age[:, 1:]\n",
    "    rfr_inner = AbuML(x_inner, y_inner, age_df.Age.notnull())\n",
    "    rfr_inner.estimator.polynomial_regression(degree=1)\n",
    "    reg_inner = rfr_inner.fit()\n",
    "    predicted_ages = reg_inner.predict(unknown_age[:, 1::])\n",
    "    p_df.loc[(p_df.Age.isnull()), 'Age'] = predicted_ages\n",
    "    return p_df\n",
    "\n",
    "# 处理cabin特征\n",
    "def set_cabin_type(p_df):\n",
    "    p_df.loc[(p_df.Cabin.notnull()), 'Cabin'] = \"Yes\"\n",
    "    p_df.loc[(p_df.Cabin.isnull()), 'Cabin'] = \"No\"\n",
    "    return p_df\n",
    "\n",
    "data_train = pd.read_csv('./data/titanic/train.csv')\n",
    "# 处理数据缺失\n",
    "data_train = set_missing_ages(data_train)\n",
    "data_train = set_cabin_type(data_train)\n",
    "\n",
    "# 处理离散特征\n",
    "dummies__cabin = pd.get_dummies(data_train['Cabin'], prefix='Cabin')\n",
    "dummies__embarked = pd.get_dummies(data_train['Embarked'], prefix='Embarked')\n",
    "dummies__sex = pd.get_dummies(data_train['Sex'], prefix='Sex')\n",
    "dummies__pclass = pd.get_dummies(data_train['Pclass'], prefix='Pclass')\n",
    "df = pd.concat([data_train, dummies__cabin, dummies__embarked, dummies__sex, dummies__pclass], axis=1)\n",
    "df.drop(['Pclass', 'Name', 'Sex', 'Ticket', 'Cabin', 'Embarked'], axis=1, inplace=True)\n",
    "\n",
    "# 归一化数据\n",
    "scaler = preprocessing.StandardScaler()\n",
    "df['Age_scaled'] = scaler.fit_transform(df['Age'].values.reshape(-1, 1))\n",
    "df['Fare_scaled'] = scaler.fit_transform(df['Fare'].values.reshape(-1, 1))\n",
    "df['SibSp_scaled'] = scaler.fit_transform(df['SibSp'].astype(float).values.reshape(-1, 1))\n",
    "df['Parch_scaled'] = scaler.fit_transform(df['Parch'].astype(float).values.reshape(-1, 1))\n",
    "\n",
    "# 选择特征\n",
    "train_df = df.filter(regex='Survived|Age_.*|SibSp_.*|Parch_.*|Fare_.*|Cabin_.*|Embarked_.*|Sex_.*|Pclass_.*')\n",
    "train_np = train_df.as_matrix()\n",
    "y = train_np[:, 0]\n",
    "x = train_np[:, 1:]\n",
    "\n",
    "titanic = AbuML(x, y, train_df)"
   ]
  },
  {
   "cell_type": "code",
   "execution_count": 30,
   "metadata": {},
   "outputs": [
    {
     "name": "stderr",
     "output_type": "stream",
     "text": [
      "LogisticRegression score mean: 0.809183974577\n",
      "DecisionTreeClassifier score mean: 0.811443366247\n"
     ]
    },
    {
     "name": "stdout",
     "output_type": "stream",
     "text": [
      "这段代码依赖python的pydot和graphviz包\n"
     ]
    }
   ],
   "source": [
    "titanic.estimator.logistic_classifier()\n",
    "titanic.cross_val_accuracy_score()\n",
    "from abupy import ABuMLGrid\n",
    "# 切换决策树\n",
    "titanic.estimator.decision_tree_classifier(criterion='entropy')\n",
    "# grid seach寻找最优的决策树层数\n",
    "# best_score_, best_params_ = ABuMLGrid.grid_search_init_kwargs(titanic.estimator.clf, titanic.x, titanic.y,\n",
    "#                                                         param_name='max_depth',param_range=range(3, 10), show=True)\n",
    "\n",
    "titanic.estimator.decision_tree_classifier(criterion='entropy', **best_params_)\n",
    "titanic.cross_val_accuracy_score()\n",
    "\n",
    "from sklearn import tree\n",
    "from sklearn.externals.six import StringIO\n",
    "\n",
    "try:\n",
    "    import pydot \n",
    "    # 为了方便试图，这里限制决策树的深度观察\n",
    "    titanic.estimator.decision_tree_classifier(criterion='entropy', max_depth=3)\n",
    "    clf = titanic.fit()\n",
    "\n",
    "    # 存储树plot\n",
    "    dotfile = StringIO()\n",
    "    tree.export_graphviz(clf, out_file=dotfile, feature_names=titanic.df.columns[1:])\n",
    "    pydot.graph_from_dot_data(dotfile.getvalue()).write_png(\"dtree2.png\")\n",
    "    !open dtree2.png\n",
    "except ImportError:\n",
    "    print('这段代码依赖python的pydot和graphviz包')"
   ]
  },
  {
   "cell_type": "code",
   "execution_count": 34,
   "metadata": {
    "collapsed": true
   },
   "outputs": [],
   "source": [
    "# 模型融合\n",
    "\n",
    "# Bagging：随机森林\n",
    "from sklearn.ensemble import RandomForestRegressor\n",
    "\n",
    "def set_missing_ages(p_df):\n",
    "    p_df.loc[(p_df.Age.isnull()), 'Age'] = data_train.Age.dropna().mean()\n",
    "    return p_df\n",
    "\n",
    "# 处理cabin特征\n",
    "def set_cabin_type(p_df):\n",
    "    p_df.loc[(p_df.Cabin.notnull()), 'Cabin'] = \"Yes\"\n",
    "    p_df.loc[(p_df.Cabin.isnull()), 'Cabin'] = \"No\"\n",
    "    return p_df\n",
    "\n",
    "data_train = pd.read_csv('./data/titanic/train.csv')\n",
    "data_train = set_missing_ages(data_train)\n",
    "data_train = set_cabin_type(data_train)\n",
    "# 处理离散特征\n",
    "dummies__cabin = pd.get_dummies(data_train['Cabin'], prefix='Cabin')\n",
    "dummies__embarked = pd.get_dummies(data_train['Embarked'], prefix='Embarked')\n",
    "dummies__sex = pd.get_dummies(data_train['Sex'], prefix='Sex')\n",
    "dummies__pclass = pd.get_dummies(data_train['Pclass'], prefix='Pclass')\n",
    "df = pd.concat([data_train, dummies__cabin, dummies__embarked, dummies__sex, dummies__pclass], axis=1)\n",
    "df.drop(['Pclass', 'Name', 'Sex', 'Ticket', 'Cabin', 'Embarked'], axis=1, inplace=True)\n",
    "# 归一化数据\n",
    "scaler = preprocessing.StandardScaler()\n",
    "df['Age_scaled'] = scaler.fit_transform(df['Age'].values.reshape(-1, 1))\n",
    "df['Fare_scaled'] = scaler.fit_transform(df['Fare'].values.reshape(-1, 1))\n",
    "df['SibSp_scaled'] = scaler.fit_transform(df['SibSp'].astype(float).values.reshape(-1, 1))\n",
    "df['Parch_scaled'] = scaler.fit_transform(df['Parch'].astype(float).values.reshape(-1, 1))\n",
    "# 选择特征\n",
    "train_df = df.filter(regex='Survived|Age_.*|SibSp_.*|Parch_.*|Fare_.*|Cabin_.*|Embarked_.*|Sex_.*|Pclass_.*')\n",
    "train_np = train_df.as_matrix()\n",
    "y = train_np[:, 0]\n",
    "x = train_np[:, 1:]\n",
    "titanic = AbuML(x, y, train_df)"
   ]
  },
  {
   "cell_type": "code",
   "execution_count": 38,
   "metadata": {},
   "outputs": [
    {
     "name": "stdout",
     "output_type": "stream",
     "text": [
      "start grid search please wait...\n"
     ]
    },
    {
     "data": {
      "image/png": "[encoded data removed]",
      "text/plain": [
       "<matplotlib.figure.Figure at 0x110d93450>"
      ]
     },
     "metadata": {},
     "output_type": "display_data"
    },
    {
     "name": "stderr",
     "output_type": "stream",
     "text": [
      "DecisionTreeClassifier score mean: 0.812580013619\n"
     ]
    }
   ],
   "source": [
    "\n",
    "# 决策树\n",
    "titanic.estimator.decision_tree_classifier()\n",
    "# grid seach寻找最优的决策树层数\n",
    "best_score_, best_params_ = ABuMLGrid.grid_search_init_kwargs(titanic.estimator.clf, titanic.x, titanic.y,\n",
    "                                                        param_name='max_depth',param_range=range(3, 10), show=True)\n",
    "\n",
    "titanic.estimator.decision_tree_classifier(**best_params_)\n",
    "titanic.cross_val_accuracy_score()\n",
    "\n",
    "\n",
    "# 随机森林\n",
    "titanic.estimator.random_forest_classifier()\n",
    "# grid seach寻找最优的参数：n_estimators个体模型数量；max_features特征集子集样本比例；max_depth层数深度\n",
    "param_grid = {\n",
    "    'n_estimators': range(80, 150, 10),\n",
    "    'max_features': np.arange(.5, 1.,.1).tolist(),\n",
    "    'max_depth': list(range(1, 10)) + [None]\n",
    "}\n",
    "# n_jobs=-1开启多线程\n",
    "# best_score_, best_params_ = ABuMLGrid.grid_search_mul_init_kwargs(titanic.estimator.clf, titanic.x, titanic.y,\n",
    "#                                                                        param_grid=param_grid, show=True, n_jobs=-1)\n",
    "\n",
    "# titanic.estimator.random_forest_classifier(**best_params_)\n",
    "# titanic.cross_val_accuracy_score()"
   ]
  },
  {
   "cell_type": "code",
   "execution_count": 39,
   "metadata": {},
   "outputs": [],
   "source": [
    "# GBDT\n",
    "titanic.estimator.xgb_classifier()\n",
    "\n",
    "# grid seach寻找最优的参数：n_estimators个体模型数量；max_depth层数深度\n",
    "param_grid = {\n",
    "    'n_estimators': range(80, 150, 10),\n",
    "    'max_depth': range(1, 10)\n",
    "}\n",
    "\n",
    "# n_jobs=-1开启多线程\n",
    "# best_score_, best_params_ = ABuMLGrid.grid_search_mul_init_kwargs(titanic.estimator.clf, titanic.x, titanic.y,\n",
    "#                                                                        param_grid=param_grid, show=True, n_jobs=-1)\n",
    "\n",
    "\n",
    "# titanic.estimator.xgb_classifier(**best_params_)\n",
    "# titanic.cross_val_accuracy_score()"
   ]
  },
  {
   "cell_type": "code",
   "execution_count": 42,
   "metadata": {},
   "outputs": [
    {
     "name": "stderr",
     "output_type": "stream",
     "text": [
      "LogisticRegression score mean: 0.806974804222\n",
      "RandomForestClassifier score mean: 0.831756894791\n",
      "GradientBoostingClassifier score mean: 0.829421461809\n"
     ]
    }
   ],
   "source": [
    "# Stacking\n",
    "# 逻辑分类\n",
    "titanic.estimator.logistic_classifier()\n",
    "titanic.cross_val_accuracy_score()\n",
    "\n",
    "# 随机森林\n",
    "param = {'max_depth': 8, 'max_features': 0.6, 'n_estimators': 80}\n",
    "titanic.estimator.random_forest_classifier(**param)\n",
    "titanic.cross_val_accuracy_score()\n",
    "\n",
    "# GBDT\n",
    "param = {'max_depth': 5, 'n_estimators': 140}\n",
    "titanic.estimator.xgb_classifier(**param)\n",
    "titanic.cross_val_accuracy_score()\n",
    "\n",
    "# 准备训练好的模型\n",
    "titanic.estimator.logistic_classifier()\n",
    "lr = titanic.fit()\n",
    "param = {'max_depth': 8, 'max_features': 0.6, 'n_estimators': 80}\n",
    "titanic.estimator.random_forest_classifier(**param)\n",
    "rf = titanic.fit()\n",
    "param = {'max_depth': 5, 'n_estimators': 140}\n",
    "titanic.estimator.xgb_classifier(**param)\n",
    "gbdt = titanic.fit()\n",
    "\n",
    "# 构造stacking训练集，融合三个模型的预测的概率值作为特征数据\n",
    "x_stk = np.array([lr.predict_proba(x)[:, 0], rf.predict_proba(x)[:, 0], gbdt.predict_proba(x)[:, 0]]).T\n",
    "x_df_stk = pd.DataFrame(x_stk, columns=['lr', 'rf', 'gbdt'])\n",
    "y_df = pd.DataFrame(y, columns=['y'])\n",
    "df = y_df.join(x_df_stk)\n",
    "\n",
    "# stacking模型\n",
    "stackings = AbuML(x_stk, y, df)\n",
    "\n",
    "stackings.estimator.logistic_classifier()\n",
    "\n",
    "# 获得titanic的融合模型stk\n",
    "stk = stackings.fit()"
   ]
  },
  {
   "cell_type": "code",
   "execution_count": 43,
   "metadata": {},
   "outputs": [
    {
     "ename": "KeyboardInterrupt",
     "evalue": "",
     "traceback": [
      "\u001b[0;31m---------------------------------------------------------------------------\u001b[0m",
      "\u001b[0;31mKeyboardInterrupt\u001b[0m                         Traceback (most recent call last)",
      "\u001b[0;32m<ipython-input-43-7a0ee801c98b>\u001b[0m in \u001b[0;36m<module>\u001b[0;34m()\u001b[0m\n\u001b[1;32m     67\u001b[0m     \u001b[0mlr\u001b[0m\u001b[0;34m,\u001b[0m \u001b[0mlr_score\u001b[0m \u001b[0;34m=\u001b[0m \u001b[0mlr_model\u001b[0m\u001b[0;34m(\u001b[0m\u001b[0mx_train\u001b[0m\u001b[0;34m,\u001b[0m \u001b[0mx_test\u001b[0m\u001b[0;34m,\u001b[0m \u001b[0my_train\u001b[0m\u001b[0;34m,\u001b[0m \u001b[0my_test\u001b[0m\u001b[0;34m)\u001b[0m\u001b[0;34m\u001b[0m\u001b[0m\n\u001b[1;32m     68\u001b[0m     \u001b[0mrf\u001b[0m\u001b[0;34m,\u001b[0m \u001b[0mrf_score\u001b[0m \u001b[0;34m=\u001b[0m \u001b[0mrf_model\u001b[0m\u001b[0;34m(\u001b[0m\u001b[0mx_train\u001b[0m\u001b[0;34m,\u001b[0m \u001b[0mx_test\u001b[0m\u001b[0;34m,\u001b[0m \u001b[0my_train\u001b[0m\u001b[0;34m,\u001b[0m \u001b[0my_test\u001b[0m\u001b[0;34m)\u001b[0m\u001b[0;34m\u001b[0m\u001b[0m\n\u001b[0;32m---> 69\u001b[0;31m     \u001b[0mgbdt\u001b[0m\u001b[0;34m,\u001b[0m \u001b[0mgbdt_score\u001b[0m \u001b[0;34m=\u001b[0m \u001b[0mgbdt_model\u001b[0m\u001b[0;34m(\u001b[0m\u001b[0mx_train\u001b[0m\u001b[0;34m,\u001b[0m \u001b[0mx_test\u001b[0m\u001b[0;34m,\u001b[0m \u001b[0my_train\u001b[0m\u001b[0;34m,\u001b[0m \u001b[0my_test\u001b[0m\u001b[0;34m)\u001b[0m\u001b[0;34m\u001b[0m\u001b[0m\n\u001b[0m\u001b[1;32m     70\u001b[0m \u001b[0;34m\u001b[0m\u001b[0m\n\u001b[1;32m     71\u001b[0m     \u001b[0;31m# stacking\u001b[0m\u001b[0;34m\u001b[0m\u001b[0;34m\u001b[0m\u001b[0m\n",
      "\u001b[0;32m<ipython-input-43-7a0ee801c98b>\u001b[0m in \u001b[0;36mgbdt_model\u001b[0;34m(x_train, x_test, y_train, y_test)\u001b[0m\n\u001b[1;32m     36\u001b[0m \u001b[0;34m\u001b[0m\u001b[0m\n\u001b[1;32m     37\u001b[0m     \u001b[0mgrid\u001b[0m \u001b[0;34m=\u001b[0m \u001b[0mGridSearchCV\u001b[0m\u001b[0;34m(\u001b[0m\u001b[0mGradientBoostingClassifier\u001b[0m\u001b[0;34m(\u001b[0m\u001b[0;34m)\u001b[0m\u001b[0;34m,\u001b[0m \u001b[0mparam_grid\u001b[0m\u001b[0;34m,\u001b[0m \u001b[0mcv\u001b[0m\u001b[0;34m=\u001b[0m\u001b[0;36m10\u001b[0m\u001b[0;34m,\u001b[0m \u001b[0mscoring\u001b[0m\u001b[0;34m=\u001b[0m\u001b[0;34m'accuracy'\u001b[0m\u001b[0;34m,\u001b[0m \u001b[0mn_jobs\u001b[0m\u001b[0;34m=\u001b[0m\u001b[0;34m-\u001b[0m\u001b[0;36m1\u001b[0m\u001b[0;34m)\u001b[0m\u001b[0;34m\u001b[0m\u001b[0m\n\u001b[0;32m---> 38\u001b[0;31m     \u001b[0mgrid\u001b[0m\u001b[0;34m.\u001b[0m\u001b[0mfit\u001b[0m\u001b[0;34m(\u001b[0m\u001b[0mx_train\u001b[0m\u001b[0;34m,\u001b[0m \u001b[0my_train\u001b[0m\u001b[0;34m)\u001b[0m\u001b[0;34m\u001b[0m\u001b[0m\n\u001b[0m\u001b[1;32m     39\u001b[0m     \u001b[0mgbdt\u001b[0m \u001b[0;34m=\u001b[0m \u001b[0mGradientBoostingClassifier\u001b[0m\u001b[0;34m(\u001b[0m\u001b[0;34m**\u001b[0m\u001b[0mgrid\u001b[0m\u001b[0;34m.\u001b[0m\u001b[0mbest_params_\u001b[0m\u001b[0;34m)\u001b[0m\u001b[0;34m\u001b[0m\u001b[0m\n\u001b[1;32m     40\u001b[0m     \u001b[0mgbdt\u001b[0m\u001b[0;34m.\u001b[0m\u001b[0mfit\u001b[0m\u001b[0;34m(\u001b[0m\u001b[0mx_train\u001b[0m\u001b[0;34m,\u001b[0m \u001b[0my_train\u001b[0m\u001b[0;34m)\u001b[0m\u001b[0;34m\u001b[0m\u001b[0m\n",
      "\u001b[0;32m/Users/yangkai/anaconda/lib/python2.7/site-packages/sklearn/model_selection/_search.pyc\u001b[0m in \u001b[0;36mfit\u001b[0;34m(self, X, y, groups)\u001b[0m\n\u001b[1;32m    943\u001b[0m             \u001b[0mtrain\u001b[0m\u001b[0;34m/\u001b[0m\u001b[0mtest\u001b[0m \u001b[0mset\u001b[0m\u001b[0;34m.\u001b[0m\u001b[0;34m\u001b[0m\u001b[0m\n\u001b[1;32m    944\u001b[0m         \"\"\"\n\u001b[0;32m--> 945\u001b[0;31m         \u001b[0;32mreturn\u001b[0m \u001b[0mself\u001b[0m\u001b[0;34m.\u001b[0m\u001b[0m_fit\u001b[0m\u001b[0;34m(\u001b[0m\u001b[0mX\u001b[0m\u001b[0;34m,\u001b[0m \u001b[0my\u001b[0m\u001b[0;34m,\u001b[0m \u001b[0mgroups\u001b[0m\u001b[0;34m,\u001b[0m \u001b[0mParameterGrid\u001b[0m\u001b[0;34m(\u001b[0m\u001b[0mself\u001b[0m\u001b[0;34m.\u001b[0m\u001b[0mparam_grid\u001b[0m\u001b[0;34m)\u001b[0m\u001b[0;34m)\u001b[0m\u001b[0;34m\u001b[0m\u001b[0m\n\u001b[0m\u001b[1;32m    946\u001b[0m \u001b[0;34m\u001b[0m\u001b[0m\n\u001b[1;32m    947\u001b[0m \u001b[0;34m\u001b[0m\u001b[0m\n",
      "\u001b[0;32m/Users/yangkai/anaconda/lib/python2.7/site-packages/sklearn/model_selection/_search.pyc\u001b[0m in \u001b[0;36m_fit\u001b[0;34m(self, X, y, groups, parameter_iterable)\u001b[0m\n\u001b[1;32m    562\u001b[0m                                   \u001b[0mreturn_times\u001b[0m\u001b[0;34m=\u001b[0m\u001b[0mTrue\u001b[0m\u001b[0;34m,\u001b[0m \u001b[0mreturn_parameters\u001b[0m\u001b[0;34m=\u001b[0m\u001b[0mTrue\u001b[0m\u001b[0;34m,\u001b[0m\u001b[0;34m\u001b[0m\u001b[0m\n\u001b[1;32m    563\u001b[0m                                   error_score=self.error_score)\n\u001b[0;32m--> 564\u001b[0;31m           \u001b[0;32mfor\u001b[0m \u001b[0mparameters\u001b[0m \u001b[0;32min\u001b[0m \u001b[0mparameter_iterable\u001b[0m\u001b[0;34m\u001b[0m\u001b[0m\n\u001b[0m\u001b[1;32m    565\u001b[0m           for train, test in cv_iter)\n\u001b[1;32m    566\u001b[0m \u001b[0;34m\u001b[0m\u001b[0m\n",
      "\u001b[0;32m/Users/yangkai/anaconda/lib/python2.7/site-packages/sklearn/externals/joblib/parallel.pyc\u001b[0m in \u001b[0;36m__call__\u001b[0;34m(self, iterable)\u001b[0m\n\u001b[1;32m    766\u001b[0m                 \u001b[0;31m# consumption.\u001b[0m\u001b[0;34m\u001b[0m\u001b[0;34m\u001b[0m\u001b[0m\n\u001b[1;32m    767\u001b[0m                 \u001b[0mself\u001b[0m\u001b[0;34m.\u001b[0m\u001b[0m_iterating\u001b[0m \u001b[0;34m=\u001b[0m \u001b[0mFalse\u001b[0m\u001b[0;34m\u001b[0m\u001b[0m\n\u001b[0;32m--> 768\u001b[0;31m             \u001b[0mself\u001b[0m\u001b[0;34m.\u001b[0m\u001b[0mretrieve\u001b[0m\u001b[0;34m(\u001b[0m\u001b[0;34m)\u001b[0m\u001b[0;34m\u001b[0m\u001b[0m\n\u001b[0m\u001b[1;32m    769\u001b[0m             \u001b[0;31m# Make sure that we get a last message telling us we are done\u001b[0m\u001b[0;34m\u001b[0m\u001b[0;34m\u001b[0m\u001b[0m\n\u001b[1;32m    770\u001b[0m             \u001b[0melapsed_time\u001b[0m \u001b[0;34m=\u001b[0m \u001b[0mtime\u001b[0m\u001b[0;34m.\u001b[0m\u001b[0mtime\u001b[0m\u001b[0;34m(\u001b[0m\u001b[0;34m)\u001b[0m \u001b[0;34m-\u001b[0m \u001b[0mself\u001b[0m\u001b[0;34m.\u001b[0m\u001b[0m_start_time\u001b[0m\u001b[0;34m\u001b[0m\u001b[0m\n",
      "\u001b[0;32m/Users/yangkai/anaconda/lib/python2.7/site-packages/sklearn/externals/joblib/parallel.pyc\u001b[0m in \u001b[0;36mretrieve\u001b[0;34m(self)\u001b[0m\n\u001b[1;32m    717\u001b[0m                     \u001b[0mensure_ready\u001b[0m \u001b[0;34m=\u001b[0m \u001b[0mself\u001b[0m\u001b[0;34m.\u001b[0m\u001b[0m_managed_backend\u001b[0m\u001b[0;34m\u001b[0m\u001b[0m\n\u001b[1;32m    718\u001b[0m                     \u001b[0mbackend\u001b[0m\u001b[0;34m.\u001b[0m\u001b[0mabort_everything\u001b[0m\u001b[0;34m(\u001b[0m\u001b[0mensure_ready\u001b[0m\u001b[0;34m=\u001b[0m\u001b[0mensure_ready\u001b[0m\u001b[0;34m)\u001b[0m\u001b[0;34m\u001b[0m\u001b[0m\n\u001b[0;32m--> 719\u001b[0;31m                 \u001b[0;32mraise\u001b[0m \u001b[0mexception\u001b[0m\u001b[0;34m\u001b[0m\u001b[0m\n\u001b[0m\u001b[1;32m    720\u001b[0m \u001b[0;34m\u001b[0m\u001b[0m\n\u001b[1;32m    721\u001b[0m     \u001b[0;32mdef\u001b[0m \u001b[0m__call__\u001b[0m\u001b[0;34m(\u001b[0m\u001b[0mself\u001b[0m\u001b[0;34m,\u001b[0m \u001b[0miterable\u001b[0m\u001b[0;34m)\u001b[0m\u001b[0;34m:\u001b[0m\u001b[0;34m\u001b[0m\u001b[0m\n",
      "\u001b[0;31mKeyboardInterrupt\u001b[0m: "
     ],
     "output_type": "error"
    }
   ],
   "source": [
    "from abupy import KFold, GridSearchCV\n",
    "from sklearn.linear_model import LogisticRegression\n",
    "from sklearn.ensemble import RandomForestClassifier\n",
    "from sklearn.ensemble import GradientBoostingClassifier\n",
    "from sklearn import metrics\n",
    "\n",
    "def lr_model(x_train, x_test, y_train, y_test):\n",
    "    \"\"\"返回训练好的逻辑分类模型及分数\"\"\"\n",
    "    lr = LogisticRegression(C=1.0)\n",
    "    lr.fit(x_train, y_train)\n",
    "    y_pred = lr.predict(x_test)\n",
    "    return lr, metrics.accuracy_score(y_test, y_pred)\n",
    "\n",
    "def rf_model(x_train, x_test, y_train, y_test):\n",
    "    \"\"\"返回训练好的随机森林模型及分数\"\"\"\n",
    "    param_grid = {\n",
    "    'n_estimators': range(80, 120, 10),\n",
    "    'max_features': np.arange(.6, .9,.1).tolist(),\n",
    "    'max_depth': list(range(3, 9)) + [None]\n",
    "    }\n",
    "    \n",
    "    grid = GridSearchCV(RandomForestClassifier(), param_grid, cv=10, scoring='accuracy', n_jobs=-1)\n",
    "    grid.fit(x_train, y_train)\n",
    "    rf = RandomForestClassifier(**grid.best_params_)\n",
    "    rf.fit(x_train, y_train)\n",
    "    y_pred = rf.predict(x_test)\n",
    "    return rf, metrics.accuracy_score(y_test, y_pred)\n",
    "\n",
    "def gbdt_model(x_train, x_test, y_train, y_test):\n",
    "    \"\"\"返回训练好的GBDT模型及分数\"\"\"\n",
    "    param_grid = {\n",
    "    'n_estimators': list(range(80, 120, 10)),\n",
    "    'max_features': np.arange(.6, .9,.1).tolist(),\n",
    "    'max_depth': list(range(3, 9)) + [None]\n",
    "    }\n",
    "    \n",
    "    grid = GridSearchCV(GradientBoostingClassifier(), param_grid, cv=10, scoring='accuracy', n_jobs=-1)\n",
    "    grid.fit(x_train, y_train)\n",
    "    gbdt = GradientBoostingClassifier(**grid.best_params_)\n",
    "    gbdt.fit(x_train, y_train)\n",
    "    y_pred = gbdt.predict(x_test)\n",
    "    return gbdt, metrics.accuracy_score(y_test, y_pred)\n",
    "\n",
    "def stack_models(x_train, x_test, y_train, y_test):\n",
    "    \"\"\"返回融合后的模型及分数\"\"\"\n",
    "    param_grid = {\n",
    "    'C': [.01, .1, 1, 10]\n",
    "    }\n",
    "    grid = GridSearchCV(LogisticRegression(), param_grid, cv=10, scoring='accuracy', n_jobs=-1)\n",
    "    grid.fit(x_train, y_train)\n",
    "    stk = LogisticRegression(penalty='l1', tol=1e-6, **grid.best_params_)\n",
    "    stk.fit(x_train, y_train)\n",
    "    y_pred = stk.predict(x_test)\n",
    "    return rf, metrics.accuracy_score(y_test, y_pred)\n",
    "\n",
    "kf = KFold(len(titanic.y), n_folds=5, shuffle=True)\n",
    "lr_scores = []\n",
    "rf_scores = []\n",
    "gbdt_scores = []\n",
    "stk_scores = []\n",
    "\n",
    "for train_index, test_index in kf:\n",
    "    x_train, x_test = titanic.x[train_index], titanic.x[test_index]\n",
    "    y_train, y_test = titanic.y[train_index], titanic.y[test_index]\n",
    "    \n",
    "    # 单个模型成绩\n",
    "    lr, lr_score = lr_model(x_train, x_test, y_train, y_test)\n",
    "    rf, rf_score = rf_model(x_train, x_test, y_train, y_test)\n",
    "    gbdt, gbdt_score = gbdt_model(x_train, x_test, y_train, y_test)\n",
    "    \n",
    "    # stacking\n",
    "    x_train_stk = np.array([lr.predict_proba(x_train)[:, 0], rf.predict_proba(x_train)[:, 0], gbdt.predict_proba(x_train)[:, 0]]).T\n",
    "    x_test_stk = np.array([lr.predict_proba(x_test)[:, 0], rf.predict_proba(x_test)[:, 0], gbdt.predict_proba(x_test)[:, 0]]).T\n",
    "    stk, stk_score = stack_models(x_train_stk, x_test_stk, y_train, y_test)\n",
    "    \n",
    "    # append score\n",
    "    lr_scores.append(lr_score)\n",
    "    rf_scores.append(rf_score)\n",
    "    gbdt_scores.append(gbdt_score)\n",
    "    stk_scores.append(stk_score)\n",
    "    \n",
    "print('lr mean score: {}'.format(np.mean(lr_scores)))\n",
    "print('rf mean score: {}'.format(np.mean(rf_scores)))\n",
    "print('gbdt mean score: {}'.format(np.mean(gbdt_scores)))\n",
    "print('stk mean score: {}'.format(np.mean(stk_scores)))\n",
    "\n",
    "print('lr std score: {}'.format(np.std(lr_scores)))\n",
    "print('rf std score: {}'.format(np.std(rf_scores))) \n",
    "print('gbdt std score: {}'.format(np.std(gbdt_scores)))\n",
    "print('stk std score: {}'.format(np.std(stk_scores)))"
   ]
  },
  {
   "cell_type": "code",
   "execution_count": null,
   "metadata": {
    "collapsed": true
   },
   "outputs": [],
   "source": [
    "def three_kfolder(data, n_folds=5, shuffle=True, ratios=[4, 1, 2]):\n",
    "    \"\"\"按ratios数组随机(shuffle)三分割数据集，返回：traing_set, stacking_set, testing_set\"\"\"\n",
    "    assert ratios and len(ratios) == 3, 'ratios必须是3-items-arraylike数组'\n",
    "    data = np.array(data)\n",
    "    N = len(data)\n",
    "    ratios_nor = np.array(ratios).astype(float) / np.sum(ratios)\n",
    "    ratios_num = (ratios_nor * N).astype(int).cumsum()\n",
    "\n",
    "    for i in range(n_folds):\n",
    "        ind = list(range(len(data)))\n",
    "        np.random.shuffle(ind)\n",
    "        data_shuf = data[ind]\n",
    "        yield data_shuf[:ratios_num[0]], data_shuf[ratios_num[0]:ratios_num[1]], data_shuf[ratios_num[1]:ratios_num[2]]\n",
    "\n",
    "# 使用demo   \n",
    "data = ['a', 'c', 'd', 'e', 'g', '2','f', 'c','3', 'p']\n",
    "for traing_set, stacking_set, testing_set in three_kfolder(data):\n",
    "    print(traing_set)\n",
    "    print(stacking_set)\n",
    "    print(testing_set)"
   ]
  }
 ],
 "metadata": {
  "kernelspec": {
   "display_name": "Python 2",
   "language": "python",
   "name": "python2"
  },
  "language_info": {
   "codemirror_mode": {
    "name": "ipython",
    "version": 2
   },
   "file_extension": ".py",
   "mimetype": "text/x-python",
   "name": "python",
   "nbconvert_exporter": "python",
   "pygments_lexer": "ipython2",
   "version": "2.7.13"
  }
 },
 "nbformat": 4,
 "nbformat_minor": 1
}
