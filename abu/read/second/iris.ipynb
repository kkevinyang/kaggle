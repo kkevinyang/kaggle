{
 "cells": [
  {
   "cell_type": "code",
   "execution_count": 1,
   "metadata": {
    "collapsed": true
   },
   "outputs": [],
   "source": [
    "# 不同k值下的分类效果比较\n",
    "import numpy as np\n",
    "import pandas as pd\n",
    "import matplotlib.pyplot as plt\n",
    "from sklearn import datasets\n",
    "from matplotlib.colors import ListedColormap\n",
    "from sklearn.neighbors import KNeighborsClassifier\n",
    "\n",
    "# 获取iris数据集\n",
    "iris = datasets.load_iris()\n",
    "\n",
    "# create X and y\n",
    "X = iris.data\n",
    "y = iris.target\n",
    "\n",
    "n_neighbors = [1, 15, 50]\n",
    "\n",
    "X_plot = X[:, :2]  # 只取前两维特征，方便plot\n",
    "\n",
    "h = .02  # plot网格单位长\n",
    "\n",
    "# Create color maps\n",
    "cmap_light = ListedColormap(['#FFAAAA', '#AAFFAA', '#AAAAFF'])\n",
    "cmap_bold = ListedColormap(['#FF0000', '#00FF00', '#0000FF'])\n",
    "\n",
    "for k in n_neighbors:\n",
    "    clf = KNeighborsClassifier(n_neighbors=k)\n",
    "    clf.fit(X_plot, y)\n",
    "    y_pred = clf.predict(X_plot)\n",
    "\n",
    "    x_min, x_max = X_plot[:, 0].min() - 1, X_plot[:, 0].max() + 1\n",
    "    y_min, y_max = X_plot[:, 1].min() - 1, X_plot[:, 1].max() + 1\n",
    "    xx, yy = np.meshgrid(np.arange(x_min, x_max, h),\n",
    "                         np.arange(y_min, y_max, h))\n",
    "    Z = clf.predict(np.c_[xx.ravel(), yy.ravel()])\n",
    "\n",
    "    # 用 color plot 观察分类结果\n",
    "    Z = Z.reshape(xx.shape)\n",
    "    plt.figure()\n",
    "    plt.pcolormesh(xx, yy, Z, cmap=cmap_light)\n",
    "\n",
    "    # plot训练样本点\n",
    "    plt.scatter(X_plot[:, 0], X_plot[:, 1], c=y, cmap=cmap_bold)\n",
    "    plt.title(\"3-Class classification (K={})\".format(k))\n",
    "    plt.axis('tight')\n",
    "    # plt.savefig('knn_k_{}.png'.format(k))\n",
    "\n",
    "# plt.show()"
   ]
  },
  {
   "cell_type": "code",
   "execution_count": 6,
   "metadata": {},
   "outputs": [],
   "source": [
    "# 交叉验证\n",
    "from abupy import AbuML\n",
    "from abupy import KFold\n",
    "# IRIS花卉数据集\n",
    "iris = AbuML.create_test_fiter()\n",
    "\n",
    "# 使用KNN\n",
    "iris.estimator.knn_classifier()\n",
    "\n",
    "\n",
    "kf = KFold(len(iris.y), n_folds=10, shuffle=True)\n",
    "\n",
    "for train_index, test_index in kf:\n",
    "    x_train, x_test = iris.x[train_index], iris.x[test_index]\n",
    "    y_train, y_test = iris.y[train_index], iris.y[test_index]\n",
    "    \n",
    "x_train.shape, x_test.shape, y_train.shape, y_test.shape\n",
    "\n",
    "from abupy import ABuMLGrid\n",
    "# 定义参数搜索范围\n",
    "# _, best_params = ABuMLGrid.grid_search_init_kwargs(iris.estimator.clf, iris.x, iris.y, scoring='accuracy',\n",
    "#                                              param_name='n_neighbors',param_range=range(1, 31), show=True)"
   ]
  },
  {
   "cell_type": "code",
   "execution_count": null,
   "metadata": {
    "collapsed": true
   },
   "outputs": [],
   "source": []
  }
 ],
 "metadata": {
  "kernelspec": {
   "display_name": "Python 2",
   "language": "python",
   "name": "python2"
  },
  "language_info": {
   "codemirror_mode": {
    "name": "ipython",
    "version": 2
   },
   "file_extension": ".py",
   "mimetype": "text/x-python",
   "name": "python",
   "nbconvert_exporter": "python",
   "pygments_lexer": "ipython2",
   "version": "2.7.13"
  }
 },
 "nbformat": 4,
 "nbformat_minor": 2
}
